{
 "cells": [
  {
   "cell_type": "code",
   "execution_count": 26,
   "metadata": {
    "collapsed": true
   },
   "outputs": [],
   "source": [
    "def loadDataSet():\n",
    "    postingList=[['my', 'dog', 'has', 'flea', 'problems', 'help', 'please'],\n",
    "                 ['maybe', 'not', 'take', 'him', 'to', 'dog', 'park', 'stupid'],\n",
    "                 ['my', 'dalmation', 'is', 'so', 'cute', 'I', 'love', 'him'],\n",
    "                 ['stop', 'posting', 'stupid', 'worthless', 'garbage'],\n",
    "                 ['mr', 'licks', 'ate', 'my', 'steak', 'how', 'to', 'stop', 'him'],\n",
    "                 ['quit', 'buying', 'worthless', 'dog', 'food', 'stupid']]\n",
    "    classVec=[0,1,0,1,0,1]\n",
    "    return postingList,classVec"
   ]
  },
  {
   "cell_type": "code",
   "execution_count": 27,
   "metadata": {
    "collapsed": true
   },
   "outputs": [],
   "source": [
    "def createVocabList(dataSet):\n",
    "    vocabSet=set([])\n",
    "    for document in dataSet:\n",
    "        vocabSet=vocabSet|set(document)\n",
    "    return list(vocabSet)"
   ]
  },
  {
   "cell_type": "code",
   "execution_count": 28,
   "metadata": {
    "collapsed": true
   },
   "outputs": [],
   "source": [
    "def setOfWord2Vec(vocabSet,inputSet):\n",
    "    returnVec=[0]*len(vocabSet)\n",
    "    for word in inputSet:\n",
    "        returnVec[vocabSet.index(word)]+=1\n",
    "    else:\n",
    "        print(\"the word: %s is not in my Vocabulary\"%word)\n",
    "    return returnVec"
   ]
  },
  {
   "cell_type": "code",
   "execution_count": 29,
   "metadata": {
    "collapsed": true
   },
   "outputs": [],
   "source": [
    "import numpy as np\n",
    "def trainNB0(trainMatrix,trainCategory):\n",
    "    numTrainDocs=len(trainMatrix)\n",
    "    numWords=len(trainMatrix[0])\n",
    "    pAbusive=sum(trainCategory)/float(numTrainDocs)\n",
    "    print(\"trainCategory:\",trainCategory)\n",
    "    p0Num=np.ones(numWords)\n",
    "    p1Num=np.ones(numWords)\n",
    "    p0Denom=2.0\n",
    "    p1Denom=2.0\n",
    "    for i in range(numTrainDocs):\n",
    "        if trainCategory[i]==1:\n",
    "            p1Num+=trainMatrix[i]\n",
    "            p1Denom+=sum(trainMatrix[i])\n",
    "        else:\n",
    "            p0Num+=trainMatrix[i]\n",
    "            p0Denom+=sum(trainMatrix[i])\n",
    "    print(\"p1Num:\",p1Num,\"p1Denom\",p1Denom)\n",
    "    print(\"p0Num:\",p0Num,\"p0Denom\",p0Denom)\n",
    "    p1Vect=np.log(p1Num/p1Denom)\n",
    "    p0Vect=np.log(p0Num/p0Denom)\n",
    "    #p1Vect=(p1Num/p1Denom)\n",
    "    #p0Vect=(p0Num/p0Denom)\n",
    "    return p0Vect,p1Vect,pAbusive"
   ]
  },
  {
   "cell_type": "code",
   "execution_count": 30,
   "metadata": {
    "collapsed": true
   },
   "outputs": [],
   "source": [
    "listOposts,listclasses=loadDataSet()"
   ]
  },
  {
   "cell_type": "code",
   "execution_count": 31,
   "metadata": {},
   "outputs": [
    {
     "data": {
      "text/plain": [
       "[['my', 'dog', 'has', 'flea', 'problems', 'help', 'please'],\n",
       " ['maybe', 'not', 'take', 'him', 'to', 'dog', 'park', 'stupid'],\n",
       " ['my', 'dalmation', 'is', 'so', 'cute', 'I', 'love', 'him'],\n",
       " ['stop', 'posting', 'stupid', 'worthless', 'garbage'],\n",
       " ['mr', 'licks', 'ate', 'my', 'steak', 'how', 'to', 'stop', 'him'],\n",
       " ['quit', 'buying', 'worthless', 'dog', 'food', 'stupid']]"
      ]
     },
     "execution_count": 31,
     "metadata": {},
     "output_type": "execute_result"
    }
   ],
   "source": [
    "listOposts"
   ]
  },
  {
   "cell_type": "code",
   "execution_count": 32,
   "metadata": {},
   "outputs": [
    {
     "data": {
      "text/plain": [
       "[0, 1, 0, 1, 0, 1]"
      ]
     },
     "execution_count": 32,
     "metadata": {},
     "output_type": "execute_result"
    }
   ],
   "source": [
    "listclasses"
   ]
  },
  {
   "cell_type": "code",
   "execution_count": 33,
   "metadata": {},
   "outputs": [
    {
     "data": {
      "text/plain": [
       "['steak',\n",
       " 'I',\n",
       " 'take',\n",
       " 'help',\n",
       " 'how',\n",
       " 'has',\n",
       " 'flea',\n",
       " 'love',\n",
       " 'so',\n",
       " 'stop',\n",
       " 'buying',\n",
       " 'not',\n",
       " 'worthless',\n",
       " 'dalmation',\n",
       " 'food',\n",
       " 'him',\n",
       " 'mr',\n",
       " 'park',\n",
       " 'dog',\n",
       " 'my',\n",
       " 'please',\n",
       " 'stupid',\n",
       " 'licks',\n",
       " 'maybe',\n",
       " 'garbage',\n",
       " 'quit',\n",
       " 'problems',\n",
       " 'to',\n",
       " 'posting',\n",
       " 'ate',\n",
       " 'cute',\n",
       " 'is']"
      ]
     },
     "execution_count": 33,
     "metadata": {},
     "output_type": "execute_result"
    }
   ],
   "source": [
    "myVocabList=createVocabList(listOposts)\n",
    "myVocabList"
   ]
  },
  {
   "cell_type": "code",
   "execution_count": 34,
   "metadata": {},
   "outputs": [
    {
     "name": "stdout",
     "output_type": "stream",
     "text": [
      "the word: please is not in my Vocabulary\n",
      "the word: stupid is not in my Vocabulary\n",
      "the word: him is not in my Vocabulary\n",
      "the word: garbage is not in my Vocabulary\n",
      "the word: him is not in my Vocabulary\n",
      "the word: stupid is not in my Vocabulary\n",
      "[[0, 0, 0, 1, 0, 1, 1, 0, 0, 0, 0, 0, 0, 0, 0, 0, 0, 0, 1, 1, 1, 0, 0, 0, 0, 0, 1, 0, 0, 0, 0, 0], [0, 0, 1, 0, 0, 0, 0, 0, 0, 0, 0, 1, 0, 0, 0, 1, 0, 1, 1, 0, 0, 1, 0, 1, 0, 0, 0, 1, 0, 0, 0, 0], [0, 1, 0, 0, 0, 0, 0, 1, 1, 0, 0, 0, 0, 1, 0, 1, 0, 0, 0, 1, 0, 0, 0, 0, 0, 0, 0, 0, 0, 0, 1, 1], [0, 0, 0, 0, 0, 0, 0, 0, 0, 1, 0, 0, 1, 0, 0, 0, 0, 0, 0, 0, 0, 1, 0, 0, 1, 0, 0, 0, 1, 0, 0, 0], [1, 0, 0, 0, 1, 0, 0, 0, 0, 1, 0, 0, 0, 0, 0, 1, 1, 0, 0, 1, 0, 0, 1, 0, 0, 0, 0, 1, 0, 1, 0, 0], [0, 0, 0, 0, 0, 0, 0, 0, 0, 0, 1, 0, 1, 0, 1, 0, 0, 0, 1, 0, 0, 1, 0, 0, 0, 1, 0, 0, 0, 0, 0, 0]]\n"
     ]
    }
   ],
   "source": [
    "trainMat=[]\n",
    "for postinDoc in listOposts:\n",
    "    trainMat.append(setOfWord2Vec(myVocabList,postinDoc))\n",
    "print(trainMat)\n"
   ]
  },
  {
   "cell_type": "code",
   "execution_count": 35,
   "metadata": {},
   "outputs": [
    {
     "name": "stdout",
     "output_type": "stream",
     "text": [
      "trainCategory: [0, 1, 0, 1, 0, 1]\n",
      "p1Num: [ 1.  1.  2.  1.  1.  1.  1.  1.  1.  2.  2.  2.  3.  1.  2.  2.  1.  2.\n",
      "  3.  1.  1.  4.  1.  2.  2.  2.  1.  2.  2.  1.  1.  1.] p1Denom 21.0\n",
      "p0Num: [ 2.  2.  1.  2.  2.  2.  2.  2.  2.  2.  1.  1.  1.  2.  1.  3.  2.  1.\n",
      "  2.  4.  2.  1.  2.  1.  1.  1.  2.  2.  1.  2.  2.  2.] p0Denom 26.0\n"
     ]
    }
   ],
   "source": [
    "p0V,p1V,pAb=trainNB0(trainMat,listclasses)"
   ]
  },
  {
   "cell_type": "code",
   "execution_count": 36,
   "metadata": {},
   "outputs": [
    {
     "data": {
      "text/plain": [
       "array([-2.56494936, -2.56494936, -3.25809654, -2.56494936, -2.56494936,\n",
       "       -2.56494936, -2.56494936, -2.56494936, -2.56494936, -2.56494936,\n",
       "       -3.25809654, -3.25809654, -3.25809654, -2.56494936, -3.25809654,\n",
       "       -2.15948425, -2.56494936, -3.25809654, -2.56494936, -1.87180218,\n",
       "       -2.56494936, -3.25809654, -2.56494936, -3.25809654, -3.25809654,\n",
       "       -3.25809654, -2.56494936, -2.56494936, -3.25809654, -2.56494936,\n",
       "       -2.56494936, -2.56494936])"
      ]
     },
     "execution_count": 36,
     "metadata": {},
     "output_type": "execute_result"
    }
   ],
   "source": [
    "\n",
    "p0V"
   ]
  },
  {
   "cell_type": "code",
   "execution_count": 37,
   "metadata": {},
   "outputs": [
    {
     "data": {
      "text/plain": [
       "array([-3.04452244, -3.04452244, -2.35137526, -3.04452244, -3.04452244,\n",
       "       -3.04452244, -3.04452244, -3.04452244, -3.04452244, -2.35137526,\n",
       "       -2.35137526, -2.35137526, -1.94591015, -3.04452244, -2.35137526,\n",
       "       -2.35137526, -3.04452244, -2.35137526, -1.94591015, -3.04452244,\n",
       "       -3.04452244, -1.65822808, -3.04452244, -2.35137526, -2.35137526,\n",
       "       -2.35137526, -3.04452244, -2.35137526, -2.35137526, -3.04452244,\n",
       "       -3.04452244, -3.04452244])"
      ]
     },
     "execution_count": 37,
     "metadata": {},
     "output_type": "execute_result"
    }
   ],
   "source": [
    "p1V\n"
   ]
  },
  {
   "cell_type": "code",
   "execution_count": 38,
   "metadata": {},
   "outputs": [
    {
     "data": {
      "text/plain": [
       "0.5"
      ]
     },
     "execution_count": 38,
     "metadata": {},
     "output_type": "execute_result"
    }
   ],
   "source": [
    "pAb"
   ]
  },
  {
   "cell_type": "code",
   "execution_count": 39,
   "metadata": {
    "collapsed": true
   },
   "outputs": [],
   "source": [
    "def classifyNB(vec2Classify,p0Vec,p1Vec,pClass1):\n",
    "    p1=sum(vec2Classify*p1Vec)+np.log(pClass1)\n",
    "    p0=sum(vec2Classify*p0Vec)+np.log(1.0-pClass1)\n",
    "    if p1>p0:\n",
    "        return 1\n",
    "    else:\n",
    "        return 0\n",
    "    "
   ]
  },
  {
   "cell_type": "code",
   "execution_count": 40,
   "metadata": {
    "collapsed": true
   },
   "outputs": [],
   "source": [
    "def testingNB():\n",
    "    listOposts,listClasses=loadDataSet()\n",
    "    print(listOposts,listClasses)\n",
    "    myVocabList=createVocabList(listOposts)\n",
    "    print(myVocabList)\n",
    "    trainMat=[]\n",
    "    for postinDoc in listOposts:\n",
    "        trainMat.append(setOfWord2Vec(myVocabList,postinDoc))\n",
    "    p0V,p1V,pAb=trainNB0(np.array(trainMat),np.array(listclasses))\n",
    "    print(p0V,p1V,pAb)\n",
    "    testEntry=['love','my','dalmation']\n",
    "    thisDoc=np.array(setOfWord2Vec(myVocabList,testEntry))\n",
    "    print(thisDoc)\n",
    "    print(testEntry,'classified as:',classifyNB(thisDoc,p0V,p1V,pAb))\n",
    "    testEntry=['stupid','garbage']\n",
    "    thisDoc=np.array(setOfWord2Vec(myVocabList,testEntry))\n",
    "    print(testEntry,'classifided as:',classifyNB(thisDoc,p0V,p1V,pAb))\n",
    "    "
   ]
  },
  {
   "cell_type": "code",
   "execution_count": 41,
   "metadata": {},
   "outputs": [
    {
     "name": "stdout",
     "output_type": "stream",
     "text": [
      "[['my', 'dog', 'has', 'flea', 'problems', 'help', 'please'], ['maybe', 'not', 'take', 'him', 'to', 'dog', 'park', 'stupid'], ['my', 'dalmation', 'is', 'so', 'cute', 'I', 'love', 'him'], ['stop', 'posting', 'stupid', 'worthless', 'garbage'], ['mr', 'licks', 'ate', 'my', 'steak', 'how', 'to', 'stop', 'him'], ['quit', 'buying', 'worthless', 'dog', 'food', 'stupid']] [0, 1, 0, 1, 0, 1]\n",
      "['steak', 'I', 'take', 'help', 'how', 'has', 'flea', 'love', 'so', 'stop', 'buying', 'not', 'worthless', 'dalmation', 'food', 'him', 'mr', 'park', 'dog', 'my', 'please', 'stupid', 'licks', 'maybe', 'garbage', 'quit', 'problems', 'to', 'posting', 'ate', 'cute', 'is']\n",
      "the word: please is not in my Vocabulary\n",
      "the word: stupid is not in my Vocabulary\n",
      "the word: him is not in my Vocabulary\n",
      "the word: garbage is not in my Vocabulary\n",
      "the word: him is not in my Vocabulary\n",
      "the word: stupid is not in my Vocabulary\n",
      "trainCategory: [0 1 0 1 0 1]\n",
      "p1Num: [ 1.  1.  2.  1.  1.  1.  1.  1.  1.  2.  2.  2.  3.  1.  2.  2.  1.  2.\n",
      "  3.  1.  1.  4.  1.  2.  2.  2.  1.  2.  2.  1.  1.  1.] p1Denom 21.0\n",
      "p0Num: [ 2.  2.  1.  2.  2.  2.  2.  2.  2.  2.  1.  1.  1.  2.  1.  3.  2.  1.\n",
      "  2.  4.  2.  1.  2.  1.  1.  1.  2.  2.  1.  2.  2.  2.] p0Denom 26.0\n",
      "[-2.56494936 -2.56494936 -3.25809654 -2.56494936 -2.56494936 -2.56494936\n",
      " -2.56494936 -2.56494936 -2.56494936 -2.56494936 -3.25809654 -3.25809654\n",
      " -3.25809654 -2.56494936 -3.25809654 -2.15948425 -2.56494936 -3.25809654\n",
      " -2.56494936 -1.87180218 -2.56494936 -3.25809654 -2.56494936 -3.25809654\n",
      " -3.25809654 -3.25809654 -2.56494936 -2.56494936 -3.25809654 -2.56494936\n",
      " -2.56494936 -2.56494936] [-3.04452244 -3.04452244 -2.35137526 -3.04452244 -3.04452244 -3.04452244\n",
      " -3.04452244 -3.04452244 -3.04452244 -2.35137526 -2.35137526 -2.35137526\n",
      " -1.94591015 -3.04452244 -2.35137526 -2.35137526 -3.04452244 -2.35137526\n",
      " -1.94591015 -3.04452244 -3.04452244 -1.65822808 -3.04452244 -2.35137526\n",
      " -2.35137526 -2.35137526 -3.04452244 -2.35137526 -2.35137526 -3.04452244\n",
      " -3.04452244 -3.04452244] 0.5\n",
      "the word: dalmation is not in my Vocabulary\n",
      "[0 0 0 0 0 0 0 1 0 0 0 0 0 1 0 0 0 0 0 1 0 0 0 0 0 0 0 0 0 0 0 0]\n",
      "['love', 'my', 'dalmation'] classified as: 0\n",
      "the word: garbage is not in my Vocabulary\n",
      "['stupid', 'garbage'] classifided as: 1\n"
     ]
    }
   ],
   "source": [
    "testingNB()"
   ]
  },
  {
   "cell_type": "code",
   "execution_count": null,
   "metadata": {
    "collapsed": true
   },
   "outputs": [],
   "source": []
  },
  {
   "cell_type": "code",
   "execution_count": null,
   "metadata": {
    "collapsed": true
   },
   "outputs": [],
   "source": []
  }
 ],
 "metadata": {
  "kernelspec": {
   "display_name": "Python 3",
   "language": "python",
   "name": "python3"
  },
  "language_info": {
   "codemirror_mode": {
    "name": "ipython",
    "version": 3
   },
   "file_extension": ".py",
   "mimetype": "text/x-python",
   "name": "python",
   "nbconvert_exporter": "python",
   "pygments_lexer": "ipython3",
   "version": "3.6.0"
  }
 },
 "nbformat": 4,
 "nbformat_minor": 2
}
